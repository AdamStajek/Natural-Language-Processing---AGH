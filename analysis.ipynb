{
 "cells": [
  {
   "cell_type": "code",
   "id": "initial_id",
   "metadata": {
    "collapsed": true,
    "ExecuteTime": {
     "end_time": "2024-10-01T16:43:35.287329Z",
     "start_time": "2024-10-01T16:43:35.272302Z"
    }
   },
   "source": [
    "import json\n",
    "import re\n",
    "import pandas\n",
    "import numpy as np\n",
    "from collections import Counter\n",
    "from nltk.util import ngrams "
   ],
   "outputs": [],
   "execution_count": 38
  },
  {
   "metadata": {
    "ExecuteTime": {
     "end_time": "2024-10-01T16:43:36.169194Z",
     "start_time": "2024-10-01T16:43:35.306251Z"
    }
   },
   "cell_type": "code",
   "source": [
    "with open(\"corpus.json\", \"r\") as f:\n",
    "    data = json.load(f)\n",
    "corpus = []\n",
    "for article in data['data']:\n",
    "      for paragraph in article['paragraphs']:\n",
    "           corpus.append(paragraph['context'])\n",
    "           \n",
    "\n",
    "corpus = \" \".join(corpus)\n",
    "corpus = corpus.replace(\"quot\", \"\")\n",
    "len(corpus)"
   ],
   "id": "f40cb16544c49d6e",
   "outputs": [
    {
     "data": {
      "text/plain": [
       "14612844"
      ]
     },
     "execution_count": 39,
     "metadata": {},
     "output_type": "execute_result"
    }
   ],
   "execution_count": 39
  },
  {
   "metadata": {
    "ExecuteTime": {
     "end_time": "2024-10-01T16:43:36.656474Z",
     "start_time": "2024-10-01T16:43:36.169422Z"
    }
   },
   "cell_type": "code",
   "source": [
    "cleaned_corpus = re.sub(r'[^A-Za-zÀ-ÿ\\s]', ' ', corpus).lower()\n",
    "cleaned_corpus[:1000]"
   ],
   "id": "ea833db828446ba1",
   "outputs": [
    {
     "data": {
      "text/plain": [
       "'arquitetonicamente  a escola tem um caráter católico  no topo da cúpula de ouro do edifício principal é uma estátua de ouro da virgem maria  imediatamente em frente ao edifício principal e de frente para ele  é uma estátua de cobre de cristo com os braços erguidos com a lenda   venite ad me omnes    ao lado do edifício principal é a basílica do sagrado coração  imediatamente atrás da basílica é a gruta  um lugar mariano de oração e reflexão  é uma réplica da gruta em lourdes  na frança  onde a virgem maria supostamente apareceu a santa bernadette soubirous em       no final da unidade principal  e em uma linha direta que liga através de   estátuas e da cúpula de ouro   é um estátua de pedra simples e moderna de maria  como na maioria das outras universidades  os alunos da notre dame dirigem uma série de meios de comunicação  as nove lojas administradas por estudantes incluem três jornais  uma estação de rádio e televisão e várias revistas e periódicos  iniciada como um periódico de uma'"
      ]
     },
     "execution_count": 40,
     "metadata": {},
     "output_type": "execute_result"
    }
   ],
   "execution_count": 40
  },
  {
   "metadata": {
    "ExecuteTime": {
     "end_time": "2024-10-01T16:43:36.930287Z",
     "start_time": "2024-10-01T16:43:36.656474Z"
    }
   },
   "cell_type": "code",
   "source": "tokenized_corpus = cleaned_corpus.split()",
   "id": "3a8d7a44e277fc06",
   "outputs": [],
   "execution_count": 41
  },
  {
   "metadata": {
    "ExecuteTime": {
     "end_time": "2024-10-01T16:43:36.951404Z",
     "start_time": "2024-10-01T16:43:36.930662Z"
    }
   },
   "cell_type": "code",
   "source": "tokenized_corpus[:100]",
   "id": "10052ef8ce207f46",
   "outputs": [
    {
     "data": {
      "text/plain": [
       "['arquitetonicamente',\n",
       " 'a',\n",
       " 'escola',\n",
       " 'tem',\n",
       " 'um',\n",
       " 'caráter',\n",
       " 'católico',\n",
       " 'no',\n",
       " 'topo',\n",
       " 'da',\n",
       " 'cúpula',\n",
       " 'de',\n",
       " 'ouro',\n",
       " 'do',\n",
       " 'edifício',\n",
       " 'principal',\n",
       " 'é',\n",
       " 'uma',\n",
       " 'estátua',\n",
       " 'de',\n",
       " 'ouro',\n",
       " 'da',\n",
       " 'virgem',\n",
       " 'maria',\n",
       " 'imediatamente',\n",
       " 'em',\n",
       " 'frente',\n",
       " 'ao',\n",
       " 'edifício',\n",
       " 'principal',\n",
       " 'e',\n",
       " 'de',\n",
       " 'frente',\n",
       " 'para',\n",
       " 'ele',\n",
       " 'é',\n",
       " 'uma',\n",
       " 'estátua',\n",
       " 'de',\n",
       " 'cobre',\n",
       " 'de',\n",
       " 'cristo',\n",
       " 'com',\n",
       " 'os',\n",
       " 'braços',\n",
       " 'erguidos',\n",
       " 'com',\n",
       " 'a',\n",
       " 'lenda',\n",
       " 'venite',\n",
       " 'ad',\n",
       " 'me',\n",
       " 'omnes',\n",
       " 'ao',\n",
       " 'lado',\n",
       " 'do',\n",
       " 'edifício',\n",
       " 'principal',\n",
       " 'é',\n",
       " 'a',\n",
       " 'basílica',\n",
       " 'do',\n",
       " 'sagrado',\n",
       " 'coração',\n",
       " 'imediatamente',\n",
       " 'atrás',\n",
       " 'da',\n",
       " 'basílica',\n",
       " 'é',\n",
       " 'a',\n",
       " 'gruta',\n",
       " 'um',\n",
       " 'lugar',\n",
       " 'mariano',\n",
       " 'de',\n",
       " 'oração',\n",
       " 'e',\n",
       " 'reflexão',\n",
       " 'é',\n",
       " 'uma',\n",
       " 'réplica',\n",
       " 'da',\n",
       " 'gruta',\n",
       " 'em',\n",
       " 'lourdes',\n",
       " 'na',\n",
       " 'frança',\n",
       " 'onde',\n",
       " 'a',\n",
       " 'virgem',\n",
       " 'maria',\n",
       " 'supostamente',\n",
       " 'apareceu',\n",
       " 'a',\n",
       " 'santa',\n",
       " 'bernadette',\n",
       " 'soubirous',\n",
       " 'em',\n",
       " 'no',\n",
       " 'final']"
      ]
     },
     "execution_count": 42,
     "metadata": {},
     "output_type": "execute_result"
    }
   ],
   "execution_count": 42
  },
  {
   "metadata": {
    "ExecuteTime": {
     "end_time": "2024-10-01T16:43:36.962160Z",
     "start_time": "2024-10-01T16:43:36.951921Z"
    }
   },
   "cell_type": "code",
   "source": "len(tokenized_corpus)",
   "id": "a4dd4d762d159719",
   "outputs": [
    {
     "data": {
      "text/plain": [
       "2283079"
      ]
     },
     "execution_count": 43,
     "metadata": {},
     "output_type": "execute_result"
    }
   ],
   "execution_count": 43
  },
  {
   "metadata": {
    "ExecuteTime": {
     "end_time": "2024-10-01T16:43:37.639208Z",
     "start_time": "2024-10-01T16:43:36.963445Z"
    }
   },
   "cell_type": "code",
   "source": [
    "counts = Counter(tokenized_corpus)\n",
    "words, word_counts = zip(*counts.most_common())\n",
    "df_builder = {\"words\": words, \"counts\": word_counts, \n",
    "              \"rank\": range(1, len(words)+1)}\n",
    "df = pandas.DataFrame(df_builder)\n",
    "df"
   ],
   "id": "c4c9da9e770da63c",
   "outputs": [
    {
     "data": {
      "text/plain": [
       "           words  counts   rank\n",
       "0             de  134765      1\n",
       "1              a   80240      2\n",
       "2              e   71414      3\n",
       "3              o   65293      4\n",
       "4             em   47792      5\n",
       "...          ...     ...    ...\n",
       "89249    arkefly       1  89250\n",
       "89250       agni       1  89251\n",
       "89251     cosmic       1  89252\n",
       "89252  motsumoto       1  89253\n",
       "89253    empenho       1  89254\n",
       "\n",
       "[89254 rows x 3 columns]"
      ],
      "text/html": [
       "<div>\n",
       "<style scoped>\n",
       "    .dataframe tbody tr th:only-of-type {\n",
       "        vertical-align: middle;\n",
       "    }\n",
       "\n",
       "    .dataframe tbody tr th {\n",
       "        vertical-align: top;\n",
       "    }\n",
       "\n",
       "    .dataframe thead th {\n",
       "        text-align: right;\n",
       "    }\n",
       "</style>\n",
       "<table border=\"1\" class=\"dataframe\">\n",
       "  <thead>\n",
       "    <tr style=\"text-align: right;\">\n",
       "      <th></th>\n",
       "      <th>words</th>\n",
       "      <th>counts</th>\n",
       "      <th>rank</th>\n",
       "    </tr>\n",
       "  </thead>\n",
       "  <tbody>\n",
       "    <tr>\n",
       "      <th>0</th>\n",
       "      <td>de</td>\n",
       "      <td>134765</td>\n",
       "      <td>1</td>\n",
       "    </tr>\n",
       "    <tr>\n",
       "      <th>1</th>\n",
       "      <td>a</td>\n",
       "      <td>80240</td>\n",
       "      <td>2</td>\n",
       "    </tr>\n",
       "    <tr>\n",
       "      <th>2</th>\n",
       "      <td>e</td>\n",
       "      <td>71414</td>\n",
       "      <td>3</td>\n",
       "    </tr>\n",
       "    <tr>\n",
       "      <th>3</th>\n",
       "      <td>o</td>\n",
       "      <td>65293</td>\n",
       "      <td>4</td>\n",
       "    </tr>\n",
       "    <tr>\n",
       "      <th>4</th>\n",
       "      <td>em</td>\n",
       "      <td>47792</td>\n",
       "      <td>5</td>\n",
       "    </tr>\n",
       "    <tr>\n",
       "      <th>...</th>\n",
       "      <td>...</td>\n",
       "      <td>...</td>\n",
       "      <td>...</td>\n",
       "    </tr>\n",
       "    <tr>\n",
       "      <th>89249</th>\n",
       "      <td>arkefly</td>\n",
       "      <td>1</td>\n",
       "      <td>89250</td>\n",
       "    </tr>\n",
       "    <tr>\n",
       "      <th>89250</th>\n",
       "      <td>agni</td>\n",
       "      <td>1</td>\n",
       "      <td>89251</td>\n",
       "    </tr>\n",
       "    <tr>\n",
       "      <th>89251</th>\n",
       "      <td>cosmic</td>\n",
       "      <td>1</td>\n",
       "      <td>89252</td>\n",
       "    </tr>\n",
       "    <tr>\n",
       "      <th>89252</th>\n",
       "      <td>motsumoto</td>\n",
       "      <td>1</td>\n",
       "      <td>89253</td>\n",
       "    </tr>\n",
       "    <tr>\n",
       "      <th>89253</th>\n",
       "      <td>empenho</td>\n",
       "      <td>1</td>\n",
       "      <td>89254</td>\n",
       "    </tr>\n",
       "  </tbody>\n",
       "</table>\n",
       "<p>89254 rows × 3 columns</p>\n",
       "</div>"
      ]
     },
     "execution_count": 44,
     "metadata": {},
     "output_type": "execute_result"
    }
   ],
   "execution_count": 44
  },
  {
   "metadata": {
    "ExecuteTime": {
     "end_time": "2024-10-01T16:43:37.655894Z",
     "start_time": "2024-10-01T16:43:37.641909Z"
    }
   },
   "cell_type": "code",
   "source": [
    "df[\"Zipf score\"] = df[\"counts\"] * df[\"rank\"]\n",
    "df"
   ],
   "id": "e4acc20dede6f1d5",
   "outputs": [
    {
     "data": {
      "text/plain": [
       "           words  counts   rank  Zipf score\n",
       "0             de  134765      1      134765\n",
       "1              a   80240      2      160480\n",
       "2              e   71414      3      214242\n",
       "3              o   65293      4      261172\n",
       "4             em   47792      5      238960\n",
       "...          ...     ...    ...         ...\n",
       "89249    arkefly       1  89250       89250\n",
       "89250       agni       1  89251       89251\n",
       "89251     cosmic       1  89252       89252\n",
       "89252  motsumoto       1  89253       89253\n",
       "89253    empenho       1  89254       89254\n",
       "\n",
       "[89254 rows x 4 columns]"
      ],
      "text/html": [
       "<div>\n",
       "<style scoped>\n",
       "    .dataframe tbody tr th:only-of-type {\n",
       "        vertical-align: middle;\n",
       "    }\n",
       "\n",
       "    .dataframe tbody tr th {\n",
       "        vertical-align: top;\n",
       "    }\n",
       "\n",
       "    .dataframe thead th {\n",
       "        text-align: right;\n",
       "    }\n",
       "</style>\n",
       "<table border=\"1\" class=\"dataframe\">\n",
       "  <thead>\n",
       "    <tr style=\"text-align: right;\">\n",
       "      <th></th>\n",
       "      <th>words</th>\n",
       "      <th>counts</th>\n",
       "      <th>rank</th>\n",
       "      <th>Zipf score</th>\n",
       "    </tr>\n",
       "  </thead>\n",
       "  <tbody>\n",
       "    <tr>\n",
       "      <th>0</th>\n",
       "      <td>de</td>\n",
       "      <td>134765</td>\n",
       "      <td>1</td>\n",
       "      <td>134765</td>\n",
       "    </tr>\n",
       "    <tr>\n",
       "      <th>1</th>\n",
       "      <td>a</td>\n",
       "      <td>80240</td>\n",
       "      <td>2</td>\n",
       "      <td>160480</td>\n",
       "    </tr>\n",
       "    <tr>\n",
       "      <th>2</th>\n",
       "      <td>e</td>\n",
       "      <td>71414</td>\n",
       "      <td>3</td>\n",
       "      <td>214242</td>\n",
       "    </tr>\n",
       "    <tr>\n",
       "      <th>3</th>\n",
       "      <td>o</td>\n",
       "      <td>65293</td>\n",
       "      <td>4</td>\n",
       "      <td>261172</td>\n",
       "    </tr>\n",
       "    <tr>\n",
       "      <th>4</th>\n",
       "      <td>em</td>\n",
       "      <td>47792</td>\n",
       "      <td>5</td>\n",
       "      <td>238960</td>\n",
       "    </tr>\n",
       "    <tr>\n",
       "      <th>...</th>\n",
       "      <td>...</td>\n",
       "      <td>...</td>\n",
       "      <td>...</td>\n",
       "      <td>...</td>\n",
       "    </tr>\n",
       "    <tr>\n",
       "      <th>89249</th>\n",
       "      <td>arkefly</td>\n",
       "      <td>1</td>\n",
       "      <td>89250</td>\n",
       "      <td>89250</td>\n",
       "    </tr>\n",
       "    <tr>\n",
       "      <th>89250</th>\n",
       "      <td>agni</td>\n",
       "      <td>1</td>\n",
       "      <td>89251</td>\n",
       "      <td>89251</td>\n",
       "    </tr>\n",
       "    <tr>\n",
       "      <th>89251</th>\n",
       "      <td>cosmic</td>\n",
       "      <td>1</td>\n",
       "      <td>89252</td>\n",
       "      <td>89252</td>\n",
       "    </tr>\n",
       "    <tr>\n",
       "      <th>89252</th>\n",
       "      <td>motsumoto</td>\n",
       "      <td>1</td>\n",
       "      <td>89253</td>\n",
       "      <td>89253</td>\n",
       "    </tr>\n",
       "    <tr>\n",
       "      <th>89253</th>\n",
       "      <td>empenho</td>\n",
       "      <td>1</td>\n",
       "      <td>89254</td>\n",
       "      <td>89254</td>\n",
       "    </tr>\n",
       "  </tbody>\n",
       "</table>\n",
       "<p>89254 rows × 4 columns</p>\n",
       "</div>"
      ]
     },
     "execution_count": 45,
     "metadata": {},
     "output_type": "execute_result"
    }
   ],
   "execution_count": 45
  },
  {
   "metadata": {
    "ExecuteTime": {
     "end_time": "2024-10-01T16:43:37.672636Z",
     "start_time": "2024-10-01T16:43:37.655894Z"
    }
   },
   "cell_type": "code",
   "source": [
    "def calculate_number_of_words_to_read_x_percent_of_text(x):\n",
    "    if x < 0 or x > 1:\n",
    "        raise ValueError(\"X should be between 0 and 1!\")\n",
    "    total_num_of_words_to_know = len(tokenized_corpus)*x\n",
    "    cur_num_of_words = 0\n",
    "    num_of_words_to_know = 0\n",
    "    it = 0\n",
    "    while total_num_of_words_to_know >= cur_num_of_words:\n",
    "        cur_num_of_words += df[\"counts\"][it]\n",
    "        num_of_words_to_know += 1\n",
    "        it += 1\n",
    "    return num_of_words_to_know"
   ],
   "id": "ebafdbd2fe0257d8",
   "outputs": [],
   "execution_count": 46
  },
  {
   "metadata": {
    "ExecuteTime": {
     "end_time": "2024-10-01T16:43:37.696073Z",
     "start_time": "2024-10-01T16:43:37.675181Z"
    }
   },
   "cell_type": "code",
   "source": "calculate_number_of_words_to_read_x_percent_of_text(0.5)",
   "id": "c59bed62700e0f4d",
   "outputs": [
    {
     "data": {
      "text/plain": [
       "202"
      ]
     },
     "execution_count": 47,
     "metadata": {},
     "output_type": "execute_result"
    }
   ],
   "execution_count": 47
  },
  {
   "metadata": {
    "ExecuteTime": {
     "end_time": "2024-10-01T16:43:37.730839Z",
     "start_time": "2024-10-01T16:43:37.714446Z"
    }
   },
   "cell_type": "code",
   "source": [
    "\n",
    "\n",
    "def get_most_frequent_ngrams(tokenized_text, n, top_k=100):\n",
    "    \"\"\"\n",
    "    Function to find the most frequent n-grams in a tokenized text.\n",
    "    \n",
    "    Args:\n",
    "    - tokenized_text (list): List of tokens (words) from the corpus.\n",
    "    - n (int): The size of the n-gram.\n",
    "    - top_k (int): Number of top frequent n-grams to return.\n",
    "    \n",
    "    Returns:\n",
    "    - List of tuples containing the n-gram and its count.\n",
    "    \"\"\"\n",
    "    # Generate n-grams from the tokenized text\n",
    "    n_grams = ngrams(tokenized_text, n)\n",
    "    \n",
    "    # Count the frequency of each n-gram\n",
    "    ngram_counts = Counter(n_grams)\n",
    "    \n",
    "    # Return the top 'top_k' most frequent n-grams\n",
    "    return ngram_counts.most_common(top_k)"
   ],
   "id": "1171a6702cf2b566",
   "outputs": [],
   "execution_count": 49
  },
  {
   "metadata": {
    "ExecuteTime": {
     "end_time": "2024-10-01T16:43:40.108763Z",
     "start_time": "2024-10-01T16:43:37.731239Z"
    }
   },
   "cell_type": "code",
   "source": "get_most_frequent_ngrams(tokenized_corpus, 2)",
   "id": "afa7cfbd9d1aa101",
   "outputs": [
    {
     "data": {
      "text/plain": [
       "[(('e', 'a'), 4588),\n",
       " (('e', 'o'), 4118),\n",
       " (('para', 'o'), 3430),\n",
       " (('para', 'a'), 3255),\n",
       " (('de', 'um'), 3045),\n",
       " (('com', 'a'), 3003),\n",
       " (('que', 'a'), 2911),\n",
       " (('com', 'o'), 2906),\n",
       " (('em', 'de'), 2879),\n",
       " (('que', 'o'), 2794),\n",
       " (('de', 'uma'), 2452),\n",
       " (('de', 'a'), 2140),\n",
       " (('no', 'entanto'), 2139),\n",
       " (('como', 'o'), 1973),\n",
       " (('que', 'os'), 1892),\n",
       " (('em', 'um'), 1889),\n",
       " (('estados', 'unidos'), 1843),\n",
       " (('em', 'uma'), 1783),\n",
       " (('como', 'a'), 1710),\n",
       " (('do', 'século'), 1669),\n",
       " (('é', 'o'), 1648),\n",
       " (('da', 'cidade'), 1640),\n",
       " (('todos', 'os'), 1602),\n",
       " (('cerca', 'de'), 1589),\n",
       " (('e', 'os'), 1481),\n",
       " (('mais', 'de'), 1481),\n",
       " (('como', 'um'), 1473),\n",
       " (('do', 'que'), 1372),\n",
       " (('a', 'maioria'), 1343),\n",
       " (('por', 'exemplo'), 1315),\n",
       " (('a', 'cidade'), 1293),\n",
       " (('o', 'primeiro'), 1289),\n",
       " (('durante', 'a'), 1286),\n",
       " (('é', 'a'), 1269),\n",
       " (('é', 'um'), 1250),\n",
       " (('em', 'a'), 1250),\n",
       " (('de', 'que'), 1250),\n",
       " (('pode', 'ser'), 1234),\n",
       " (('de', 'o'), 1215),\n",
       " (('de', 'sua'), 1170),\n",
       " (('em', 'o'), 1158),\n",
       " (('a', 'partir'), 1148),\n",
       " (('o', 'que'), 1134),\n",
       " (('que', 'se'), 1134),\n",
       " (('como', 'uma'), 1122),\n",
       " (('durante', 'o'), 1108),\n",
       " (('para', 'os'), 1093),\n",
       " (('do', 'mundo'), 1077),\n",
       " (('que', 'as'), 1066),\n",
       " (('após', 'a'), 1057),\n",
       " (('entre', 'os'), 1037),\n",
       " (('em', 'e'), 1033),\n",
       " (('do', 'norte'), 1033),\n",
       " (('acordo', 'com'), 1032),\n",
       " (('todas', 'as'), 1019),\n",
       " (('um', 'dos'), 1011),\n",
       " (('é', 'uma'), 1010),\n",
       " (('de', 'acordo'), 1009),\n",
       " (('e', 'em'), 1003),\n",
       " (('dos', 'estados'), 994),\n",
       " (('a', 'primeira'), 993),\n",
       " (('com', 'uma'), 961),\n",
       " (('e', 'da'), 960),\n",
       " (('década', 'de'), 957),\n",
       " (('dos', 'eua'), 954),\n",
       " (('e', 'as'), 947),\n",
       " (('com', 'os'), 944),\n",
       " (('tornou', 'se'), 939),\n",
       " (('a', 'maior'), 921),\n",
       " (('todo', 'o'), 917),\n",
       " (('no', 'final'), 913),\n",
       " (('em', 'que'), 913),\n",
       " (('podem', 'ser'), 903),\n",
       " (('que', 'é'), 884),\n",
       " (('com', 'um'), 880),\n",
       " (('depois', 'de'), 878),\n",
       " (('por', 'um'), 871),\n",
       " (('de', 'e'), 871),\n",
       " (('maioria', 'dos'), 852),\n",
       " (('e', 'do'), 847),\n",
       " (('de', 'seu'), 845),\n",
       " (('o', 'governo'), 833),\n",
       " (('ao', 'longo'), 827),\n",
       " (('e', 'um'), 811),\n",
       " (('milhões', 'de'), 810),\n",
       " (('que', 'não'), 808),\n",
       " (('número', 'de'), 794),\n",
       " (('do', 'estado'), 787),\n",
       " (('bem', 'como'), 780),\n",
       " (('do', 'sul'), 773),\n",
       " (('mais', 'tarde'), 750),\n",
       " (('que', 'ele'), 746),\n",
       " (('a', 'um'), 738),\n",
       " (('sobre', 'a'), 732),\n",
       " (('uma', 'das'), 723),\n",
       " (('partir', 'de'), 711),\n",
       " (('cidade', 'de'), 707),\n",
       " (('além', 'disso'), 703),\n",
       " (('a', 'guerra'), 698),\n",
       " (('e', 'de'), 696)]"
      ]
     },
     "execution_count": 50,
     "metadata": {},
     "output_type": "execute_result"
    }
   ],
   "execution_count": 50
  },
  {
   "metadata": {
    "ExecuteTime": {
     "end_time": "2024-10-01T16:43:40.120935Z",
     "start_time": "2024-10-01T16:43:40.108763Z"
    }
   },
   "cell_type": "code",
   "source": "",
   "id": "c03d04b8f734babf",
   "outputs": [],
   "execution_count": 50
  },
  {
   "metadata": {
    "ExecuteTime": {
     "end_time": "2024-10-01T16:43:40.137502Z",
     "start_time": "2024-10-01T16:43:40.121182Z"
    }
   },
   "cell_type": "code",
   "source": "",
   "id": "d5baf329ac422e0d",
   "outputs": [],
   "execution_count": 50
  }
 ],
 "metadata": {
  "kernelspec": {
   "display_name": "Python 3",
   "language": "python",
   "name": "python3"
  },
  "language_info": {
   "codemirror_mode": {
    "name": "ipython",
    "version": 2
   },
   "file_extension": ".py",
   "mimetype": "text/x-python",
   "name": "python",
   "nbconvert_exporter": "python",
   "pygments_lexer": "ipython2",
   "version": "2.7.6"
  }
 },
 "nbformat": 4,
 "nbformat_minor": 5
}
