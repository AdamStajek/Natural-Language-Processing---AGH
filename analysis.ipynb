{
 "cells": [
  {
   "cell_type": "code",
   "id": "initial_id",
   "metadata": {
    "collapsed": true,
    "ExecuteTime": {
     "end_time": "2024-10-01T15:00:16.670426Z",
     "start_time": "2024-10-01T15:00:16.649019Z"
    }
   },
   "source": [
    "import json\n",
    "import re\n",
    "import pandas\n",
    "from collections import Counter\n",
    "from collections import OrderedDict"
   ],
   "outputs": [],
   "execution_count": 77
  },
  {
   "metadata": {
    "ExecuteTime": {
     "end_time": "2024-10-01T14:54:25.778977Z",
     "start_time": "2024-10-01T14:54:24.861418Z"
    }
   },
   "cell_type": "code",
   "source": [
    "with open(\"corpus.json\", \"r\") as f:\n",
    "    data = json.load(f)\n",
    "corpus = []\n",
    "for article in data['data']:\n",
    "      for paragraph in article['paragraphs']:\n",
    "           corpus.append(paragraph['context'])\n",
    "           \n",
    "          \n",
    "#corpus = [paragraph[\"context\"] for paragraph in article['paragraphs'] for article in data['data']]\n",
    "corpus = \" \".join(corpus)\n",
    "len(corpus)"
   ],
   "id": "f40cb16544c49d6e",
   "outputs": [
    {
     "data": {
      "text/plain": [
       "14710572"
      ]
     },
     "execution_count": 65,
     "metadata": {},
     "output_type": "execute_result"
    }
   ],
   "execution_count": 65
  },
  {
   "metadata": {
    "ExecuteTime": {
     "end_time": "2024-10-01T14:54:26.287602Z",
     "start_time": "2024-10-01T14:54:25.779486Z"
    }
   },
   "cell_type": "code",
   "source": [
    "cleaned_corpus = re.sub(r'[^A-Za-zÀ-ÿ\\s]', ' ', corpus).lower()\n",
    "cleaned_corpus[:1000]"
   ],
   "id": "ea833db828446ba1",
   "outputs": [
    {
     "data": {
      "text/plain": [
       "'arquitetonicamente  a escola tem um caráter católico  no topo da cúpula de ouro do edifício principal é uma estátua de ouro da virgem maria  imediatamente em frente ao edifício principal e de frente para ele  é uma estátua de cobre de cristo com os braços erguidos com a lenda  quot venite ad me omnes quot   ao lado do edifício principal é a basílica do sagrado coração  imediatamente atrás da basílica é a gruta  um lugar mariano de oração e reflexão  é uma réplica da gruta em lourdes  na frança  onde a virgem maria supostamente apareceu a santa bernadette soubirous em       no final da unidade principal  e em uma linha direta que liga através de   estátuas e da cúpula de ouro   é um estátua de pedra simples e moderna de maria  como na maioria das outras universidades  os alunos da notre dame dirigem uma série de meios de comunicação  as nove lojas administradas por estudantes incluem três jornais  uma estação de rádio e televisão e várias revistas e periódicos  iniciada como um periódic'"
      ]
     },
     "execution_count": 66,
     "metadata": {},
     "output_type": "execute_result"
    }
   ],
   "execution_count": 66
  },
  {
   "metadata": {
    "ExecuteTime": {
     "end_time": "2024-10-01T14:54:26.588449Z",
     "start_time": "2024-10-01T14:54:26.287602Z"
    }
   },
   "cell_type": "code",
   "source": "tokenized_corpus = cleaned_corpus.split()",
   "id": "3a8d7a44e277fc06",
   "outputs": [],
   "execution_count": 67
  },
  {
   "metadata": {
    "ExecuteTime": {
     "end_time": "2024-10-01T14:54:26.604080Z",
     "start_time": "2024-10-01T14:54:26.589994Z"
    }
   },
   "cell_type": "code",
   "source": "tokenized_corpus[:100]",
   "id": "10052ef8ce207f46",
   "outputs": [
    {
     "data": {
      "text/plain": [
       "['arquitetonicamente',\n",
       " 'a',\n",
       " 'escola',\n",
       " 'tem',\n",
       " 'um',\n",
       " 'caráter',\n",
       " 'católico',\n",
       " 'no',\n",
       " 'topo',\n",
       " 'da',\n",
       " 'cúpula',\n",
       " 'de',\n",
       " 'ouro',\n",
       " 'do',\n",
       " 'edifício',\n",
       " 'principal',\n",
       " 'é',\n",
       " 'uma',\n",
       " 'estátua',\n",
       " 'de',\n",
       " 'ouro',\n",
       " 'da',\n",
       " 'virgem',\n",
       " 'maria',\n",
       " 'imediatamente',\n",
       " 'em',\n",
       " 'frente',\n",
       " 'ao',\n",
       " 'edifício',\n",
       " 'principal',\n",
       " 'e',\n",
       " 'de',\n",
       " 'frente',\n",
       " 'para',\n",
       " 'ele',\n",
       " 'é',\n",
       " 'uma',\n",
       " 'estátua',\n",
       " 'de',\n",
       " 'cobre',\n",
       " 'de',\n",
       " 'cristo',\n",
       " 'com',\n",
       " 'os',\n",
       " 'braços',\n",
       " 'erguidos',\n",
       " 'com',\n",
       " 'a',\n",
       " 'lenda',\n",
       " 'quot',\n",
       " 'venite',\n",
       " 'ad',\n",
       " 'me',\n",
       " 'omnes',\n",
       " 'quot',\n",
       " 'ao',\n",
       " 'lado',\n",
       " 'do',\n",
       " 'edifício',\n",
       " 'principal',\n",
       " 'é',\n",
       " 'a',\n",
       " 'basílica',\n",
       " 'do',\n",
       " 'sagrado',\n",
       " 'coração',\n",
       " 'imediatamente',\n",
       " 'atrás',\n",
       " 'da',\n",
       " 'basílica',\n",
       " 'é',\n",
       " 'a',\n",
       " 'gruta',\n",
       " 'um',\n",
       " 'lugar',\n",
       " 'mariano',\n",
       " 'de',\n",
       " 'oração',\n",
       " 'e',\n",
       " 'reflexão',\n",
       " 'é',\n",
       " 'uma',\n",
       " 'réplica',\n",
       " 'da',\n",
       " 'gruta',\n",
       " 'em',\n",
       " 'lourdes',\n",
       " 'na',\n",
       " 'frança',\n",
       " 'onde',\n",
       " 'a',\n",
       " 'virgem',\n",
       " 'maria',\n",
       " 'supostamente',\n",
       " 'apareceu',\n",
       " 'a',\n",
       " 'santa',\n",
       " 'bernadette',\n",
       " 'soubirous',\n",
       " 'em']"
      ]
     },
     "execution_count": 68,
     "metadata": {},
     "output_type": "execute_result"
    }
   ],
   "execution_count": 68
  },
  {
   "metadata": {
    "ExecuteTime": {
     "end_time": "2024-10-01T14:54:26.620141Z",
     "start_time": "2024-10-01T14:54:26.604080Z"
    }
   },
   "cell_type": "code",
   "source": "len(tokenized_corpus)",
   "id": "a4dd4d762d159719",
   "outputs": [
    {
     "data": {
      "text/plain": [
       "2307497"
      ]
     },
     "execution_count": 69,
     "metadata": {},
     "output_type": "execute_result"
    }
   ],
   "execution_count": 69
  },
  {
   "metadata": {
    "ExecuteTime": {
     "end_time": "2024-10-01T15:09:08.248806Z",
     "start_time": "2024-10-01T15:09:07.505889Z"
    }
   },
   "cell_type": "code",
   "source": [
    "counts = Counter(tokenized_corpus)\n",
    "words, word_counts = zip(*counts.most_common())\n",
    "df_builder = {\"words\": words, \"counts\": word_counts, \n",
    "              \"rank\": range(1, len(words)+1)}\n",
    "df = pandas.DataFrame(df_builder)\n",
    "df"
   ],
   "id": "c4c9da9e770da63c",
   "outputs": [
    {
     "data": {
      "text/plain": [
       "           words  counts   rank\n",
       "0             de  134765      1\n",
       "1              a   80233      2\n",
       "2              e   71414      3\n",
       "3              o   65293      4\n",
       "4             em   47792      5\n",
       "...          ...     ...    ...\n",
       "89253    arkefly       1  89254\n",
       "89254       agni       1  89255\n",
       "89255     cosmic       1  89256\n",
       "89256  motsumoto       1  89257\n",
       "89257    empenho       1  89258\n",
       "\n",
       "[89258 rows x 3 columns]"
      ],
      "text/html": [
       "<div>\n",
       "<style scoped>\n",
       "    .dataframe tbody tr th:only-of-type {\n",
       "        vertical-align: middle;\n",
       "    }\n",
       "\n",
       "    .dataframe tbody tr th {\n",
       "        vertical-align: top;\n",
       "    }\n",
       "\n",
       "    .dataframe thead th {\n",
       "        text-align: right;\n",
       "    }\n",
       "</style>\n",
       "<table border=\"1\" class=\"dataframe\">\n",
       "  <thead>\n",
       "    <tr style=\"text-align: right;\">\n",
       "      <th></th>\n",
       "      <th>words</th>\n",
       "      <th>counts</th>\n",
       "      <th>rank</th>\n",
       "    </tr>\n",
       "  </thead>\n",
       "  <tbody>\n",
       "    <tr>\n",
       "      <th>0</th>\n",
       "      <td>de</td>\n",
       "      <td>134765</td>\n",
       "      <td>1</td>\n",
       "    </tr>\n",
       "    <tr>\n",
       "      <th>1</th>\n",
       "      <td>a</td>\n",
       "      <td>80233</td>\n",
       "      <td>2</td>\n",
       "    </tr>\n",
       "    <tr>\n",
       "      <th>2</th>\n",
       "      <td>e</td>\n",
       "      <td>71414</td>\n",
       "      <td>3</td>\n",
       "    </tr>\n",
       "    <tr>\n",
       "      <th>3</th>\n",
       "      <td>o</td>\n",
       "      <td>65293</td>\n",
       "      <td>4</td>\n",
       "    </tr>\n",
       "    <tr>\n",
       "      <th>4</th>\n",
       "      <td>em</td>\n",
       "      <td>47792</td>\n",
       "      <td>5</td>\n",
       "    </tr>\n",
       "    <tr>\n",
       "      <th>...</th>\n",
       "      <td>...</td>\n",
       "      <td>...</td>\n",
       "      <td>...</td>\n",
       "    </tr>\n",
       "    <tr>\n",
       "      <th>89253</th>\n",
       "      <td>arkefly</td>\n",
       "      <td>1</td>\n",
       "      <td>89254</td>\n",
       "    </tr>\n",
       "    <tr>\n",
       "      <th>89254</th>\n",
       "      <td>agni</td>\n",
       "      <td>1</td>\n",
       "      <td>89255</td>\n",
       "    </tr>\n",
       "    <tr>\n",
       "      <th>89255</th>\n",
       "      <td>cosmic</td>\n",
       "      <td>1</td>\n",
       "      <td>89256</td>\n",
       "    </tr>\n",
       "    <tr>\n",
       "      <th>89256</th>\n",
       "      <td>motsumoto</td>\n",
       "      <td>1</td>\n",
       "      <td>89257</td>\n",
       "    </tr>\n",
       "    <tr>\n",
       "      <th>89257</th>\n",
       "      <td>empenho</td>\n",
       "      <td>1</td>\n",
       "      <td>89258</td>\n",
       "    </tr>\n",
       "  </tbody>\n",
       "</table>\n",
       "<p>89258 rows × 3 columns</p>\n",
       "</div>"
      ]
     },
     "execution_count": 91,
     "metadata": {},
     "output_type": "execute_result"
    }
   ],
   "execution_count": 91
  },
  {
   "metadata": {
    "ExecuteTime": {
     "end_time": "2024-10-01T15:09:38.848176Z",
     "start_time": "2024-10-01T15:09:38.831486Z"
    }
   },
   "cell_type": "code",
   "source": [
    "df[\"Zipf score\"] = df[\"counts\"] * df[\"rank\"]\n",
    "df"
   ],
   "id": "e4acc20dede6f1d5",
   "outputs": [
    {
     "data": {
      "text/plain": [
       "           words  counts   rank  Zipf score\n",
       "0             de  134765      1      134765\n",
       "1              a   80233      2      160466\n",
       "2              e   71414      3      214242\n",
       "3              o   65293      4      261172\n",
       "4             em   47792      5      238960\n",
       "...          ...     ...    ...         ...\n",
       "89253    arkefly       1  89254       89254\n",
       "89254       agni       1  89255       89255\n",
       "89255     cosmic       1  89256       89256\n",
       "89256  motsumoto       1  89257       89257\n",
       "89257    empenho       1  89258       89258\n",
       "\n",
       "[89258 rows x 4 columns]"
      ],
      "text/html": [
       "<div>\n",
       "<style scoped>\n",
       "    .dataframe tbody tr th:only-of-type {\n",
       "        vertical-align: middle;\n",
       "    }\n",
       "\n",
       "    .dataframe tbody tr th {\n",
       "        vertical-align: top;\n",
       "    }\n",
       "\n",
       "    .dataframe thead th {\n",
       "        text-align: right;\n",
       "    }\n",
       "</style>\n",
       "<table border=\"1\" class=\"dataframe\">\n",
       "  <thead>\n",
       "    <tr style=\"text-align: right;\">\n",
       "      <th></th>\n",
       "      <th>words</th>\n",
       "      <th>counts</th>\n",
       "      <th>rank</th>\n",
       "      <th>Zipf score</th>\n",
       "    </tr>\n",
       "  </thead>\n",
       "  <tbody>\n",
       "    <tr>\n",
       "      <th>0</th>\n",
       "      <td>de</td>\n",
       "      <td>134765</td>\n",
       "      <td>1</td>\n",
       "      <td>134765</td>\n",
       "    </tr>\n",
       "    <tr>\n",
       "      <th>1</th>\n",
       "      <td>a</td>\n",
       "      <td>80233</td>\n",
       "      <td>2</td>\n",
       "      <td>160466</td>\n",
       "    </tr>\n",
       "    <tr>\n",
       "      <th>2</th>\n",
       "      <td>e</td>\n",
       "      <td>71414</td>\n",
       "      <td>3</td>\n",
       "      <td>214242</td>\n",
       "    </tr>\n",
       "    <tr>\n",
       "      <th>3</th>\n",
       "      <td>o</td>\n",
       "      <td>65293</td>\n",
       "      <td>4</td>\n",
       "      <td>261172</td>\n",
       "    </tr>\n",
       "    <tr>\n",
       "      <th>4</th>\n",
       "      <td>em</td>\n",
       "      <td>47792</td>\n",
       "      <td>5</td>\n",
       "      <td>238960</td>\n",
       "    </tr>\n",
       "    <tr>\n",
       "      <th>...</th>\n",
       "      <td>...</td>\n",
       "      <td>...</td>\n",
       "      <td>...</td>\n",
       "      <td>...</td>\n",
       "    </tr>\n",
       "    <tr>\n",
       "      <th>89253</th>\n",
       "      <td>arkefly</td>\n",
       "      <td>1</td>\n",
       "      <td>89254</td>\n",
       "      <td>89254</td>\n",
       "    </tr>\n",
       "    <tr>\n",
       "      <th>89254</th>\n",
       "      <td>agni</td>\n",
       "      <td>1</td>\n",
       "      <td>89255</td>\n",
       "      <td>89255</td>\n",
       "    </tr>\n",
       "    <tr>\n",
       "      <th>89255</th>\n",
       "      <td>cosmic</td>\n",
       "      <td>1</td>\n",
       "      <td>89256</td>\n",
       "      <td>89256</td>\n",
       "    </tr>\n",
       "    <tr>\n",
       "      <th>89256</th>\n",
       "      <td>motsumoto</td>\n",
       "      <td>1</td>\n",
       "      <td>89257</td>\n",
       "      <td>89257</td>\n",
       "    </tr>\n",
       "    <tr>\n",
       "      <th>89257</th>\n",
       "      <td>empenho</td>\n",
       "      <td>1</td>\n",
       "      <td>89258</td>\n",
       "      <td>89258</td>\n",
       "    </tr>\n",
       "  </tbody>\n",
       "</table>\n",
       "<p>89258 rows × 4 columns</p>\n",
       "</div>"
      ]
     },
     "execution_count": 92,
     "metadata": {},
     "output_type": "execute_result"
    }
   ],
   "execution_count": 92
  },
  {
   "metadata": {
    "ExecuteTime": {
     "end_time": "2024-10-01T15:22:45.115991Z",
     "start_time": "2024-10-01T15:22:45.100905Z"
    }
   },
   "cell_type": "code",
   "source": [
    "def calculate_number_of_words_to_read_x_percent_of_text(x):\n",
    "    if x < 0 or x > 1:\n",
    "        raise ValueError(\"X should be between 0 and 1!\")\n",
    "    total_num_of_words_to_know = len(tokenized_corpus)*x\n",
    "    cur_num_of_words = 0\n",
    "    num_of_words_to_know = 0\n",
    "    it = 0\n",
    "    while total_num_of_words_to_know >= cur_num_of_words:\n",
    "        cur_num_of_words += df[\"counts\"][it]\n",
    "        num_of_words_to_know += 1\n",
    "        it += 1\n",
    "    return num_of_words_to_know"
   ],
   "id": "ebafdbd2fe0257d8",
   "outputs": [],
   "execution_count": 104
  },
  {
   "metadata": {
    "ExecuteTime": {
     "end_time": "2024-10-01T15:22:51.963909Z",
     "start_time": "2024-10-01T15:22:51.944534Z"
    }
   },
   "cell_type": "code",
   "source": "calculate_number_of_words_to_read_x_percent_of_text(0.5)",
   "id": "c59bed62700e0f4d",
   "outputs": [
    {
     "data": {
      "text/plain": [
       "190"
      ]
     },
     "execution_count": 106,
     "metadata": {},
     "output_type": "execute_result"
    }
   ],
   "execution_count": 106
  },
  {
   "metadata": {},
   "cell_type": "code",
   "outputs": [],
   "execution_count": null,
   "source": "",
   "id": "62dcb9360f22abd2"
  }
 ],
 "metadata": {
  "kernelspec": {
   "display_name": "Python 3",
   "language": "python",
   "name": "python3"
  },
  "language_info": {
   "codemirror_mode": {
    "name": "ipython",
    "version": 2
   },
   "file_extension": ".py",
   "mimetype": "text/x-python",
   "name": "python",
   "nbconvert_exporter": "python",
   "pygments_lexer": "ipython2",
   "version": "2.7.6"
  }
 },
 "nbformat": 4,
 "nbformat_minor": 5
}
